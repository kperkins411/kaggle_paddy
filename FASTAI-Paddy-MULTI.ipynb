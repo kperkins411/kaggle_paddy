{
 "cells": [
  {
   "cell_type": "markdown",
   "id": "6db68348-6675-4711-81e1-fa1b04fc694d",
   "metadata": {
    "tags": []
   },
   "source": [
    "## Paddy Kaggle Notebook (Pytorch ported to FastAI)"
   ]
  },
  {
   "cell_type": "code",
   "execution_count": 1,
   "id": "528a1f00-c4f2-41bf-9fc4-b48ebdcbf0cf",
   "metadata": {},
   "outputs": [],
   "source": [
    "import torch\n",
    "import pandas as pd\n",
    "import torch.optim as optim\n",
    "import sklearn\n",
    "from sklearn.model_selection import train_test_split\n",
    "sklearn.__version__\n",
    "\n",
    "# autoreload extension\n",
    "%load_ext autoreload\n",
    "%autoreload 2"
   ]
  },
  {
   "cell_type": "code",
   "execution_count": 2,
   "id": "71920fd5-b8f3-4bbc-ba35-c954ca6e08fa",
   "metadata": {},
   "outputs": [
    {
     "name": "stdout",
     "output_type": "stream",
     "text": [
      "Script already ran...bailing\n"
     ]
    }
   ],
   "source": [
    "import setup_env as su\n",
    "su.setup_env()\n",
    "\n",
    "import paddy_funcs_classes as pfc"
   ]
  },
  {
   "cell_type": "markdown",
   "id": "d1414b30-7a45-4364-91df-9d852abae75d",
   "metadata": {
    "tags": []
   },
   "source": [
    "## CFG file"
   ]
  },
  {
   "cell_type": "code",
   "execution_count": 3,
   "id": "52fb0c93-7f68-421b-af92-c8145be53fe6",
   "metadata": {},
   "outputs": [],
   "source": [
    "CFG=pfc.PROJECT_CFG()"
   ]
  },
  {
   "cell_type": "markdown",
   "id": "9c1a9e6c-82ae-4708-95ae-730eab72aa06",
   "metadata": {},
   "source": [
    "### Get data"
   ]
  },
  {
   "cell_type": "code",
   "execution_count": 4,
   "id": "835142b2-22ad-4d9f-8ea9-96c9aafd745d",
   "metadata": {},
   "outputs": [],
   "source": [
    "df =pd.read_csv(CFG.csv_path)\n",
    "# df.head()\n",
    "\n",
    "#EXPERIMENT ON SUBSET OF DATA?\n",
    "if CFG.subsample_data:\n",
    "    #stratify dataframe by multiple columns (see Paddy-Multi.ipynb)\n",
    "    # df, _ = train_test_split(df, test_size=0.5, random_state=0, stratify=df[['label', 'variety']])\n",
    "\n",
    "    #get a small dataset to train on\n",
    "    df=df.iloc[:500,:]\n",
    "\n",
    "    print(df.shape)"
   ]
  },
  {
   "cell_type": "markdown",
   "id": "43a4fbcd-0c43-4393-b888-09213eb35289",
   "metadata": {},
   "source": [
    "### Get list of transforms that the original model used (mean, std)"
   ]
  },
  {
   "cell_type": "code",
   "execution_count": 5,
   "id": "1ed43233-cafd-43e0-9aaa-6200d5658266",
   "metadata": {},
   "outputs": [],
   "source": [
    "# import timm\n",
    "# cfg=timm.data.resolve_data_config({}, model=CFG.model_name, verbose=True)\n",
    "# cfg"
   ]
  },
  {
   "cell_type": "markdown",
   "id": "2bf113bb-f441-431d-9fb0-6d0101472431",
   "metadata": {},
   "source": [
    "## Put custom model in FastAI"
   ]
  },
  {
   "cell_type": "code",
   "execution_count": 6,
   "id": "2f769bd7-9c2e-4148-b8c0-8f1d32ccc3af",
   "metadata": {},
   "outputs": [],
   "source": [
    "import fastai\n",
    "import fastai.tabular.data\n",
    "from torch.utils.data import Dataset\n",
    "from fastai.vision.all import *\n",
    "set_seed(42)\n",
    "path =Path('./data/')"
   ]
  },
  {
   "cell_type": "markdown",
   "id": "25c73d4d-160e-4b50-ab6c-bc8f45695886",
   "metadata": {},
   "source": [
    "## The below dataloader returns image and label"
   ]
  },
  {
   "cell_type": "code",
   "execution_count": 7,
   "id": "1f4c3665-21a4-429a-ba79-186d451e685b",
   "metadata": {},
   "outputs": [],
   "source": [
    "# #create a dict to map label strings to tensors\n",
    "# i_to_label=dict(enumerate(df.label.unique()))\n",
    "# label_to_i={v:i for i,v in i_to_label.items()}\n",
    "# # print(i_to_label)\n",
    "# # print(label_to_i)\n",
    "\n",
    "# #create another to map variety strings to tensors\n",
    "# i_to_variety=dict(enumerate(df.variety.unique()))\n",
    "# variety_to_i={v:i for i,v in i_to_variety.items()}"
   ]
  },
  {
   "cell_type": "code",
   "execution_count": 7,
   "id": "056497aa-6937-4cfd-940b-d98c320b9305",
   "metadata": {},
   "outputs": [],
   "source": [
    "#creae a dict that maps from image_id to variety\n",
    "img_id=df.image_id\n",
    "variety=df.variety\n",
    "\n",
    "itov=dict(zip(img_id,variety))\n",
    "def getvariety(p): return itov[p.name]  "
   ]
  },
  {
   "cell_type": "code",
   "execution_count": 8,
   "id": "d358502b-8896-4465-8238-ec57b3398f8a",
   "metadata": {},
   "outputs": [],
   "source": [
    "#thisdatablock ensures that image, label and variety are returned\n",
    "dblock=DataBlock(blocks=(ImageBlock, CategoryBlock, CategoryBlock),   #ImageBlock works if passed a path to image, CategoryBlock works if passed a string to categorify to an int\n",
    "                 n_inp=1,   #imageblock\n",
    "                 get_items=get_image_files,\n",
    "                 get_y=[parent_label,getvariety],  #2 cat blocks ricetype and disease variety type\n",
    "                 splitter=RandomSplitter(0.2, seed=42),\n",
    "                 item_tfms=Resize(192,method='squish'),\n",
    "                 batch_tfms=aug_transforms(size=128, min_scale=0.75))\n",
    "\n",
    "dls=dblock.dataloaders(CFG.train_path)\n",
    "# dls.show_batch()"
   ]
  },
  {
   "cell_type": "code",
   "execution_count": 16,
   "id": "1fd345df-fd99-40b2-9ffa-ccd7ab112568",
   "metadata": {},
   "outputs": [],
   "source": [
    "def dtc_loss(preds,y_label,y_variety):\n",
    "    rice_preds, variety_preds=preds\n",
    "    c_loss = nn.CrossEntropyLoss()\n",
    "    return c_loss(rice_preds,y_label)+c_loss(variety_preds,y_variety)\n",
    "\n",
    "def dtc_error(preds,y_label,y_variety):\n",
    "    rice_preds, variety_preds=preds\n",
    "    return error_rate(rice_preds,y_label)+error_rate(variety_preds,y_variety)\n",
    "\n",
    "def acc_labels(preds,y_label,y_variety):\n",
    "    '''\n",
    "    preds:[nxn] tensor\n",
    "    lbls:[1xn] tensor\n",
    "    sums number of lbl positions that are equivalent to max pred\n",
    "    then divides by total number of samples\n",
    "    returns: float between 0 and 1\n",
    "    '''\n",
    "    label_preds, variety_preds=preds\n",
    "    return ((torch.argmax(label_preds,dim=1)==y_label).sum()/len(y_label)).item()\n",
    "\n",
    "def acc_variety(preds,y_label,y_variety):\n",
    "    '''\n",
    "    preds:[nxn] tensor\n",
    "    lbls:[1xn] tensor\n",
    "    sums number of lbl positions that are equivalent to max pred\n",
    "    then divides by total number of samples\n",
    "    returns: float between 0 and 1\n",
    "    '''\n",
    "    label_preds, variety_preds=preds\n",
    "    return ((torch.argmax(variety_preds,dim=1)==y_variety).sum()/len(y_variety)).item()"
   ]
  },
  {
   "cell_type": "code",
   "execution_count": 17,
   "id": "35e7d96d-bf50-4e5a-97a2-b6795cf08f72",
   "metadata": {},
   "outputs": [],
   "source": [
    "from fastai.vision.all import *\n",
    "import timm\n",
    "\n",
    "#create the timm model\n",
    "tmodel=timm.create_model('resnet26d', pretrained=True, num_classes=CFG.num_classes_in_output_layer,global_pool='catavgmax') \n",
    "\n",
    "#and pass it to DiseaseAndTypeClassifier\n",
    "m1=pfc.DiseaseAndTypeClassifier(tmodel)\n",
    "\n",
    "learn = Learner(dls, model=m1, loss_func=dtc_loss, metrics=[acc_labels,acc_variety ])\n",
    "\n",
    "# learn.loss_func"
   ]
  },
  {
   "cell_type": "code",
   "execution_count": 11,
   "id": "96282b0b-faf5-4e7e-9e1b-cc48b8be5d80",
   "metadata": {},
   "outputs": [
    {
     "data": {
      "text/html": [
       "\n",
       "<style>\n",
       "    /* Turns off some styling */\n",
       "    progress {\n",
       "        /* gets rid of default border in Firefox and Opera. */\n",
       "        border: none;\n",
       "        /* Needs to be in here for Safari polyfill so background images work as expected. */\n",
       "        background-size: auto;\n",
       "    }\n",
       "    progress:not([value]), progress:not([value])::-webkit-progress-bar {\n",
       "        background: repeating-linear-gradient(45deg, #7e7e7e, #7e7e7e 10px, #5c5c5c 10px, #5c5c5c 20px);\n",
       "    }\n",
       "    .progress-bar-interrupted, .progress-bar-interrupted::-webkit-progress-bar {\n",
       "        background: #F44336;\n",
       "    }\n",
       "</style>\n"
      ],
      "text/plain": [
       "<IPython.core.display.HTML object>"
      ]
     },
     "metadata": {},
     "output_type": "display_data"
    },
    {
     "data": {
      "text/html": [],
      "text/plain": [
       "<IPython.core.display.HTML object>"
      ]
     },
     "metadata": {},
     "output_type": "display_data"
    },
    {
     "name": "stdout",
     "output_type": "stream",
     "text": [
      "CPU times: user 12.3 s, sys: 5.11 s, total: 17.4 s\n",
      "Wall time: 19.5 s\n"
     ]
    },
    {
     "data": {
      "text/plain": [
       "SuggestedLRs(valley=7.585775892948732e-05, slide=0.05754399299621582)"
      ]
     },
     "execution_count": 11,
     "metadata": {},
     "output_type": "execute_result"
    },
    {
     "data": {
      "image/png": "[encoded data removed]",
      "text/plain": [
       "<Figure size 432x288 with 1 Axes>"
      ]
     },
     "metadata": {
      "needs_background": "light"
     },
     "output_type": "display_data"
    }
   ],
   "source": [
    "%%time\n",
    "learn.lr_find(suggest_funcs=(valley,slide))"
   ]
  },
  {
   "cell_type": "code",
   "execution_count": 18,
   "id": "889de3b8-5772-44b6-a374-f634892ef98e",
   "metadata": {},
   "outputs": [
    {
     "data": {
      "text/html": [
       "\n",
       "<style>\n",
       "    /* Turns off some styling */\n",
       "    progress {\n",
       "        /* gets rid of default border in Firefox and Opera. */\n",
       "        border: none;\n",
       "        /* Needs to be in here for Safari polyfill so background images work as expected. */\n",
       "        background-size: auto;\n",
       "    }\n",
       "    progress:not([value]), progress:not([value])::-webkit-progress-bar {\n",
       "        background: repeating-linear-gradient(45deg, #7e7e7e, #7e7e7e 10px, #5c5c5c 10px, #5c5c5c 20px);\n",
       "    }\n",
       "    .progress-bar-interrupted, .progress-bar-interrupted::-webkit-progress-bar {\n",
       "        background: #F44336;\n",
       "    }\n",
       "</style>\n"
      ],
      "text/plain": [
       "<IPython.core.display.HTML object>"
      ]
     },
     "metadata": {},
     "output_type": "display_data"
    },
    {
     "data": {
      "text/html": [
       "<table border=\"1\" class=\"dataframe\">\n",
       "  <thead>\n",
       "    <tr style=\"text-align: left;\">\n",
       "      <th>epoch</th>\n",
       "      <th>train_loss</th>\n",
       "      <th>valid_loss</th>\n",
       "      <th>acc_labels</th>\n",
       "      <th>acc_variety</th>\n",
       "      <th>time</th>\n",
       "    </tr>\n",
       "  </thead>\n",
       "  <tbody>\n",
       "    <tr>\n",
       "      <td>0</td>\n",
       "      <td>1.859761</td>\n",
       "      <td>3.933093</td>\n",
       "      <td>0.465161</td>\n",
       "      <td>0.756848</td>\n",
       "      <td>00:28</td>\n",
       "    </tr>\n",
       "  </tbody>\n",
       "</table>"
      ],
      "text/plain": [
       "<IPython.core.display.HTML object>"
      ]
     },
     "metadata": {},
     "output_type": "display_data"
    },
    {
     "data": {
      "text/html": [
       "\n",
       "<style>\n",
       "    /* Turns off some styling */\n",
       "    progress {\n",
       "        /* gets rid of default border in Firefox and Opera. */\n",
       "        border: none;\n",
       "        /* Needs to be in here for Safari polyfill so background images work as expected. */\n",
       "        background-size: auto;\n",
       "    }\n",
       "    progress:not([value]), progress:not([value])::-webkit-progress-bar {\n",
       "        background: repeating-linear-gradient(45deg, #7e7e7e, #7e7e7e 10px, #5c5c5c 10px, #5c5c5c 20px);\n",
       "    }\n",
       "    .progress-bar-interrupted, .progress-bar-interrupted::-webkit-progress-bar {\n",
       "        background: #F44336;\n",
       "    }\n",
       "</style>\n"
      ],
      "text/plain": [
       "<IPython.core.display.HTML object>"
      ]
     },
     "metadata": {},
     "output_type": "display_data"
    },
    {
     "data": {
      "text/html": [
       "<table border=\"1\" class=\"dataframe\">\n",
       "  <thead>\n",
       "    <tr style=\"text-align: left;\">\n",
       "      <th>epoch</th>\n",
       "      <th>train_loss</th>\n",
       "      <th>valid_loss</th>\n",
       "      <th>acc_labels</th>\n",
       "      <th>acc_variety</th>\n",
       "      <th>time</th>\n",
       "    </tr>\n",
       "  </thead>\n",
       "  <tbody>\n",
       "    <tr>\n",
       "      <td>0</td>\n",
       "      <td>0.651991</td>\n",
       "      <td>0.614765</td>\n",
       "      <td>0.853916</td>\n",
       "      <td>0.954349</td>\n",
       "      <td>00:28</td>\n",
       "    </tr>\n",
       "    <tr>\n",
       "      <td>1</td>\n",
       "      <td>0.736334</td>\n",
       "      <td>1.049291</td>\n",
       "      <td>0.759250</td>\n",
       "      <td>0.888996</td>\n",
       "      <td>00:28</td>\n",
       "    </tr>\n",
       "    <tr>\n",
       "      <td>2</td>\n",
       "      <td>0.678575</td>\n",
       "      <td>1.084316</td>\n",
       "      <td>0.763575</td>\n",
       "      <td>0.900048</td>\n",
       "      <td>00:28</td>\n",
       "    </tr>\n",
       "    <tr>\n",
       "      <td>3</td>\n",
       "      <td>0.554074</td>\n",
       "      <td>1.184004</td>\n",
       "      <td>0.755887</td>\n",
       "      <td>0.922153</td>\n",
       "      <td>00:29</td>\n",
       "    </tr>\n",
       "    <tr>\n",
       "      <td>4</td>\n",
       "      <td>0.385851</td>\n",
       "      <td>0.756614</td>\n",
       "      <td>0.839981</td>\n",
       "      <td>0.899087</td>\n",
       "      <td>00:29</td>\n",
       "    </tr>\n",
       "    <tr>\n",
       "      <td>5</td>\n",
       "      <td>0.287343</td>\n",
       "      <td>0.386754</td>\n",
       "      <td>0.918789</td>\n",
       "      <td>0.966843</td>\n",
       "      <td>00:29</td>\n",
       "    </tr>\n",
       "    <tr>\n",
       "      <td>6</td>\n",
       "      <td>0.171980</td>\n",
       "      <td>0.237733</td>\n",
       "      <td>0.954349</td>\n",
       "      <td>0.974531</td>\n",
       "      <td>00:29</td>\n",
       "    </tr>\n",
       "    <tr>\n",
       "      <td>7</td>\n",
       "      <td>0.100684</td>\n",
       "      <td>0.202420</td>\n",
       "      <td>0.956752</td>\n",
       "      <td>0.987025</td>\n",
       "      <td>00:29</td>\n",
       "    </tr>\n",
       "    <tr>\n",
       "      <td>8</td>\n",
       "      <td>0.061556</td>\n",
       "      <td>0.156082</td>\n",
       "      <td>0.968284</td>\n",
       "      <td>0.990870</td>\n",
       "      <td>00:29</td>\n",
       "    </tr>\n",
       "    <tr>\n",
       "      <td>9</td>\n",
       "      <td>0.045792</td>\n",
       "      <td>0.160536</td>\n",
       "      <td>0.966362</td>\n",
       "      <td>0.990389</td>\n",
       "      <td>00:29</td>\n",
       "    </tr>\n",
       "  </tbody>\n",
       "</table>"
      ],
      "text/plain": [
       "<IPython.core.display.HTML object>"
      ]
     },
     "metadata": {},
     "output_type": "display_data"
    },
    {
     "name": "stdout",
     "output_type": "stream",
     "text": [
      "CPU times: user 3min 3s, sys: 1min 15s, total: 4min 19s\n",
      "Wall time: 5min 20s\n"
     ]
    }
   ],
   "source": [
    "%%time\n",
    "learn.fine_tune(CFG.N_EPOCHS,base_lr=0.003)"
   ]
  },
  {
   "cell_type": "markdown",
   "id": "06d96349-bc33-4ef3-ab34-24c99ae13c30",
   "metadata": {},
   "source": [
    "## Generate submission"
   ]
  },
  {
   "cell_type": "code",
   "execution_count": 19,
   "id": "4e252a7c-a1f0-4117-9c19-dbef073def53",
   "metadata": {},
   "outputs": [],
   "source": [
    "pfc.generate_submission(learn.model,df)"
   ]
  },
  {
   "cell_type": "markdown",
   "id": "8ba2d133-d8b0-4cfe-b01a-62ca4c175b46",
   "metadata": {},
   "source": [
    "## Zip And Upload to Kaggle\n"
   ]
  },
  {
   "cell_type": "code",
   "execution_count": 20,
   "id": "ac9c08d7-b7c6-48e4-adb3-a9c97fb3a91c",
   "metadata": {},
   "outputs": [
    {
     "name": "stdout",
     "output_type": "stream",
     "text": [
      "  adding: submission.csv (deflated 85%)\n",
      "Warning: Looks like you're using an outdated API Version, please consider updating (server 1.5.13 / client 1.5.12)\n",
      "100%|██████████████████████████████████████| 9.93k/9.93k [00:00<00:00, 17.2kB/s]\n",
      "Successfully submitted to Paddy Doctor: Paddy Disease Classification"
     ]
    }
   ],
   "source": [
    "!zip ./submission.zip ./submission.csv\n",
    "!kaggle competitions submit -c paddy-disease-classification -f submission.zip -m \"Message\""
   ]
  },
  {
   "cell_type": "code",
   "execution_count": null,
   "id": "9f023b88-63d8-4d98-b6ca-c01e3952a4be",
   "metadata": {},
   "outputs": [],
   "source": []
  }
 ],
 "metadata": {
  "kernelspec": {
   "display_name": "Python 3 (ipykernel)",
   "language": "python",
   "name": "python3"
  },
  "language_info": {
   "codemirror_mode": {
    "name": "ipython",
    "version": 3
   },
   "file_extension": ".py",
   "mimetype": "text/x-python",
   "name": "python",
   "nbconvert_exporter": "python",
   "pygments_lexer": "ipython3",
   "version": "3.9.13"
  }
 },
 "nbformat": 4,
 "nbformat_minor": 5
}
