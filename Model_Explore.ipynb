{
 "cells": [
  {
   "cell_type": "code",
   "execution_count": 70,
   "id": "dad9a8b1-dde8-481b-8336-af6836abf069",
   "metadata": {},
   "outputs": [
    {
     "data": {
      "text/plain": [
       "smallm(\n",
       "  (flatten): Flatten(start_dim=1, end_dim=-1)\n",
       "  (l1): Sequential(\n",
       "    (0): Linear(in_features=256, out_features=512, bias=False)\n",
       "    (1): ReLU()\n",
       "  )\n",
       "  (l2): Sequential(\n",
       "    (0): Linear(in_features=512, out_features=512, bias=False)\n",
       "    (1): ReLU()\n",
       "  )\n",
       "  (head): Sequential(\n",
       "    (0): Linear(in_features=76, out_features=99, bias=False)\n",
       "    (1): ReLU()\n",
       "  )\n",
       ")"
      ]
     },
     "execution_count": 70,
     "metadata": {},
     "output_type": "execute_result"
    }
   ],
   "source": [
    "import torch.nn as nn\n",
    "import torch.nn.functional as F\n",
    "\n",
    "class DiseaseAndTypeClassifier(nn.Module):\n",
    "    def __init__(self,tmodel):\n",
    "        '''\n",
    "        tmodel: pretrained model\n",
    "        ex:\n",
    "        model_name='resnet26d'\n",
    "        tmodel=timm.create_model(model_name, pretrained=True)\n",
    "        m1=DiseaseAndTypeClassifier(tmodel)\n",
    "        \n",
    "        '''\n",
    "        super().__init__()\n",
    "        self.m = tmodel\n",
    "        \n",
    "        #do this if you want to replace head of self.m\n",
    "        #get model head\n",
    "        # self.\n",
    "#         h=list(self.m.named_modules())[-1]\n",
    "#         print(h[0])\n",
    "#         h[1]=nn.Linear(in_features=self.m.get_classifier().in_features,out_features=99, bias=False)\n",
    "#         print(list(self.m.named_modules())[-1])\n",
    "        \n",
    "        self.s=nn.Sequential(\n",
    "            #do this if you want to add a head that matches the output size of self.m\n",
    "            nn.Linear(in_features=self.m.get_classifier().out_features,out_features=512, bias=False),                \n",
    "            nn.ReLU())\n",
    "        self.l1=nn.Linear(in_features=512, out_features=10, bias=False)  #rice type\n",
    "        self.l2=nn.Linear(in_features=512, out_features=10, bias=False)  #disease\n",
    "        \n",
    "    def forward(self,x): \n",
    "        x=self.m(x)\n",
    "        x=self.s(x)     \n",
    "        label=self.l1(x)  #disease type\n",
    "        variety=self.l2(x)  #variety\n",
    "        return label,variety\n",
    " \n",
    "class smallm(nn.Module):\n",
    "    def __init__(self):\n",
    "        super().__init__()\n",
    "        #linear network expects linear input\n",
    "        self.flatten=nn.Flatten()\n",
    "        self.l1=nn.Sequential(\n",
    "            nn.Linear(in_features=256,out_features=512, bias=False),\n",
    "            nn.ReLU())\n",
    "        self.l2=nn.Sequential(\n",
    "            nn.Linear(in_features=512,out_features=512, bias=False),\n",
    "            nn.ReLU())\n",
    "        # self.head=nn.Sequential(OrderedDict([('fc1',nn.Linear(in_features=256,out_features=512, bias=False)),\n",
    "        #          ('fc2',nn.Linear(in_features=512,out_features=512, bias=False))])\n",
    "        self.head=nn.Sequential(\n",
    "            nn.Linear(in_features=76,out_features=99, bias=False),\n",
    "            nn.ReLU())        \n",
    "    def forward(self,x):\n",
    "        x=self.flatten(x)\n",
    "        x=self.l1(x)\n",
    "        x=self.l2(x)\n",
    "        x=self.head[0](x)\n",
    "        x=self.head[1](x)\n",
    "        return x\n",
    "    \n",
    "    def get_classifier(self):\n",
    "        #you can see what type it is and input and output params\n",
    "        return self.head[0]\n",
    "        \n",
    "\n",
    "# m_in=nn.Sequential(\n",
    "#             nn.Linear(in_features=self.m.get_classifier().in_features,out_features=512, bias=False),\n",
    "#             nn.ReLU())\n",
    "sm=smallm()\n",
    "m1=DiseaseAndTypeClassifier(sm)\n"
   ]
  },
  {
   "cell_type": "code",
   "execution_count": 75,
   "id": "4cdaa091-84e8-46e3-904c-0f4f6441e618",
   "metadata": {},
   "outputs": [
    {
     "data": {
      "text/plain": [
       "Sequential(\n",
       "  (0): Flatten(start_dim=1, end_dim=-1)\n",
       "  (1): Sequential(\n",
       "    (0): Linear(in_features=256, out_features=512, bias=False)\n",
       "    (1): ReLU()\n",
       "  )\n",
       "  (2): Sequential(\n",
       "    (0): Linear(in_features=512, out_features=512, bias=False)\n",
       "    (1): ReLU()\n",
       "  )\n",
       ")"
      ]
     },
     "execution_count": 75,
     "metadata": {},
     "output_type": "execute_result"
    }
   ],
   "source": [
    "#want to remove the head?  Works with forward as well (head, last sequential is removed from it)\n",
    "#but it then becomes a nn.Sequential object, you lose all the stuff that made it a smallm model\n",
    "s=smallm()\n",
    "s=nn.Sequential(*list(s.children())[:-1])\n",
    "s"
   ]
  },
  {
   "cell_type": "code",
   "execution_count": 82,
   "id": "258a5318-35aa-4f37-bd1d-1ee2dc1671d1",
   "metadata": {},
   "outputs": [
    {
     "name": "stdout",
     "output_type": "stream",
     "text": [
      "4096\n"
     ]
    }
   ],
   "source": [
    "import timm\n",
    "tmodel=timm.create_model('resnet26d', pretrained=True, num_classes=512,global_pool='catavgmax') \n",
    "print(tmodel.get_classifier().in_features)"
   ]
  },
  {
   "cell_type": "code",
   "execution_count": 83,
   "id": "93c946ed-3466-41d5-9ad8-d87dd84bd940",
   "metadata": {},
   "outputs": [],
   "source": [
    "#strip the head and convert to a Sequential\n",
    "nm=nn.Sequential(*list(tmodel.children())[:-1])"
   ]
  },
  {
   "cell_type": "code",
   "execution_count": 84,
   "id": "7a9c9d31-0114-4a8e-9d04-828e72a5db46",
   "metadata": {},
   "outputs": [
    {
     "ename": "AttributeError",
     "evalue": "'Sequential' object has no attribute 'get_classifier'",
     "output_type": "error",
     "traceback": [
      "\u001b[0;31m---------------------------------------------------------------------------\u001b[0m",
      "\u001b[0;31mAttributeError\u001b[0m                            Traceback (most recent call last)",
      "Input \u001b[0;32mIn [84]\u001b[0m, in \u001b[0;36m<cell line: 1>\u001b[0;34m()\u001b[0m\n\u001b[0;32m----> 1\u001b[0m \u001b[43mnm\u001b[49m\u001b[38;5;241;43m.\u001b[39;49m\u001b[43mget_classifier\u001b[49m()\u001b[38;5;241m.\u001b[39min_features\n",
      "File \u001b[0;32m/usr/local/lib/python3.9/dist-packages/torch/nn/modules/module.py:1207\u001b[0m, in \u001b[0;36mModule.__getattr__\u001b[0;34m(self, name)\u001b[0m\n\u001b[1;32m   1205\u001b[0m     \u001b[38;5;28;01mif\u001b[39;00m name \u001b[38;5;129;01min\u001b[39;00m modules:\n\u001b[1;32m   1206\u001b[0m         \u001b[38;5;28;01mreturn\u001b[39;00m modules[name]\n\u001b[0;32m-> 1207\u001b[0m \u001b[38;5;28;01mraise\u001b[39;00m \u001b[38;5;167;01mAttributeError\u001b[39;00m(\u001b[38;5;124m\"\u001b[39m\u001b[38;5;124m'\u001b[39m\u001b[38;5;132;01m{}\u001b[39;00m\u001b[38;5;124m'\u001b[39m\u001b[38;5;124m object has no attribute \u001b[39m\u001b[38;5;124m'\u001b[39m\u001b[38;5;132;01m{}\u001b[39;00m\u001b[38;5;124m'\u001b[39m\u001b[38;5;124m\"\u001b[39m\u001b[38;5;241m.\u001b[39mformat(\n\u001b[1;32m   1208\u001b[0m     \u001b[38;5;28mtype\u001b[39m(\u001b[38;5;28mself\u001b[39m)\u001b[38;5;241m.\u001b[39m\u001b[38;5;18m__name__\u001b[39m, name))\n",
      "\u001b[0;31mAttributeError\u001b[0m: 'Sequential' object has no attribute 'get_classifier'"
     ]
    }
   ],
   "source": [
    "nm.get_classifier().in_features"
   ]
  },
  {
   "cell_type": "code",
   "execution_count": 55,
   "id": "51a74247-ad9d-4edd-8f31-cfdc1bdb932b",
   "metadata": {},
   "outputs": [
    {
     "ename": "AttributeError",
     "evalue": "'list' object has no attribute 'l2'",
     "output_type": "error",
     "traceback": [
      "\u001b[0;31m---------------------------------------------------------------------------\u001b[0m",
      "\u001b[0;31mAttributeError\u001b[0m                            Traceback (most recent call last)",
      "Input \u001b[0;32mIn [55]\u001b[0m, in \u001b[0;36m<cell line: 2>\u001b[0;34m()\u001b[0m\n\u001b[1;32m      1\u001b[0m \u001b[38;5;66;03m#get all the parameters for the l1 layer\u001b[39;00m\n\u001b[0;32m----> 2\u001b[0m p\u001b[38;5;241m=\u001b[39m\u001b[38;5;28mlist\u001b[39m(\u001b[43mm1\u001b[49m\u001b[38;5;241;43m.\u001b[39;49m\u001b[43ml2\u001b[49m\u001b[38;5;241m.\u001b[39mparameters())\n\u001b[1;32m      4\u001b[0m \u001b[38;5;28mlen\u001b[39m(p[\u001b[38;5;241m0\u001b[39m])\n\u001b[1;32m      5\u001b[0m p[\u001b[38;5;241m0\u001b[39m][\u001b[38;5;241m9\u001b[39m]\n",
      "\u001b[0;31mAttributeError\u001b[0m: 'list' object has no attribute 'l2'"
     ]
    }
   ],
   "source": [
    "#get all the parameters for the l1 layer\n",
    "p=list(m1.l2.parameters())\n",
    "\n",
    "len(p[0])\n",
    "p[0][9]\n",
    "\n",
    "type(p)\n",
    "p[0].requires_grad"
   ]
  },
  {
   "cell_type": "code",
   "execution_count": 39,
   "id": "1b965aef-c262-41ef-9946-3dba3580baec",
   "metadata": {},
   "outputs": [
    {
     "data": {
      "text/plain": [
       "[Parameter containing:\n",
       " tensor([[ 0.1117,  0.0419, -0.0875,  ..., -0.0762,  0.0960,  0.0056],\n",
       "         [ 0.0098,  0.0295, -0.0530,  ..., -0.0715,  0.1092, -0.0794],\n",
       "         [ 0.0860,  0.1053,  0.0559,  ..., -0.0113,  0.0444, -0.1116],\n",
       "         ...,\n",
       "         [-0.0368,  0.0990,  0.0697,  ...,  0.0029,  0.0611, -0.0217],\n",
       "         [ 0.0424, -0.0100,  0.0332,  ..., -0.0335, -0.0245, -0.1022],\n",
       "         [-0.0782, -0.0470,  0.0407,  ...,  0.0659, -0.0937,  0.0376]],\n",
       "        requires_grad=True)]"
      ]
     },
     "execution_count": 39,
     "metadata": {},
     "output_type": "execute_result"
    }
   ],
   "source": [
    "p2=list(m1.m.head.parameters())\n",
    "p2"
   ]
  },
  {
   "cell_type": "code",
   "execution_count": 43,
   "id": "b90be383-f3f1-4550-969f-6c5849598320",
   "metadata": {},
   "outputs": [
    {
     "name": "stdout",
     "output_type": "stream",
     "text": [
      "FOUND1\n",
      "smallm(\n",
      "  (flatten): Flatten(start_dim=1, end_dim=-1)\n",
      "  (l1): Sequential(\n",
      "    (0): Linear(in_features=256, out_features=512, bias=False)\n",
      "    (1): ReLU()\n",
      "  )\n",
      "  (l2): Sequential(\n",
      "    (0): Linear(in_features=512, out_features=512, bias=False)\n",
      "    (1): ReLU()\n",
      "  )\n",
      "  (head): Sequential(\n",
      "    (0): Linear(in_features=76, out_features=99, bias=False)\n",
      "    (1): ReLU()\n",
      "  )\n",
      ")\n",
      "FOUND1\n",
      "Sequential(\n",
      "  (0): Linear(in_features=99, out_features=512, bias=False)\n",
      "  (1): ReLU()\n",
      ")\n",
      "FOUND1\n",
      "Linear(in_features=512, out_features=10, bias=False)\n",
      "FOUND1\n",
      "Linear(in_features=512, out_features=10, bias=False)\n"
     ]
    }
   ],
   "source": [
    "for child in m1.children():\n",
    "    print('FOUND1')\n",
    "    print(child)"
   ]
  },
  {
   "cell_type": "code",
   "execution_count": 6,
   "id": "47dece89-cd65-44b6-9b01-2780d59056cc",
   "metadata": {},
   "outputs": [],
   "source": [
    "m1.m.fc=nn.Linear(in_features=512,out_features=512)"
   ]
  },
  {
   "cell_type": "code",
   "execution_count": 7,
   "id": "493fede6-897e-4fbf-bd87-bbc2beb5f0eb",
   "metadata": {},
   "outputs": [
    {
     "name": "stdout",
     "output_type": "stream",
     "text": [
      "DiseaseAndTypeClassifier(\n",
      "  (m): smallm(\n",
      "    (l1): Sequential(\n",
      "      (0): Linear(in_features=10, out_features=512, bias=False)\n",
      "      (1): ReLU()\n",
      "    )\n",
      "    (l12): Sequential(\n",
      "      (0): Linear(in_features=512, out_features=256, bias=False)\n",
      "      (1): ReLU()\n",
      "    )\n",
      "    (fc): Linear(in_features=512, out_features=512, bias=True)\n",
      "  )\n",
      "  (rl): ReLU()\n",
      "  (l1): Linear(in_features=512, out_features=10, bias=False)\n",
      "  (l2): Linear(in_features=512, out_features=10, bias=False)\n",
      ")\n"
     ]
    }
   ],
   "source": [
    "print(m1)"
   ]
  },
  {
   "cell_type": "code",
   "execution_count": null,
   "id": "006cbb4a-c1f7-4124-ba5a-62816e76b43d",
   "metadata": {},
   "outputs": [],
   "source": [
    "input_image = torch.rand(3,28,28)"
   ]
  },
  {
   "cell_type": "code",
   "execution_count": 38,
   "id": "b160e8e8-73ac-48a1-ac58-7702419a632b",
   "metadata": {},
   "outputs": [
    {
     "name": "stdout",
     "output_type": "stream",
     "text": [
      "smallm(\n",
      "  (flatten): Flatten(start_dim=1, end_dim=-1)\n",
      "  (l1): Sequential(\n",
      "    (0): Linear(in_features=256, out_features=512, bias=False)\n",
      "    (1): ReLU()\n",
      "  )\n",
      "  (l2): Sequential(\n",
      "    (0): Linear(in_features=512, out_features=512, bias=False)\n",
      "    (1): ReLU()\n",
      "  )\n",
      "  (fc): Linear(in_features=512, out_features=256, bias=False)\n",
      ")\n"
     ]
    }
   ],
   "source": [
    "sm=smallm()\n",
    "print(sm)"
   ]
  },
  {
   "cell_type": "code",
   "execution_count": null,
   "id": "37c71bb8-e3d8-48b3-b2cb-c7b8afb5bd2a",
   "metadata": {},
   "outputs": [],
   "source": []
  }
 ],
 "metadata": {
  "kernelspec": {
   "display_name": "Python 3 (ipykernel)",
   "language": "python",
   "name": "python3"
  },
  "language_info": {
   "codemirror_mode": {
    "name": "ipython",
    "version": 3
   },
   "file_extension": ".py",
   "mimetype": "text/x-python",
   "name": "python",
   "nbconvert_exporter": "python",
   "pygments_lexer": "ipython3",
   "version": "3.9.13"
  }
 },
 "nbformat": 4,
 "nbformat_minor": 5
}
