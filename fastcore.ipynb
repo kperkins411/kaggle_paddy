{
 "cells": [
  {
   "cell_type": "markdown",
   "id": "2fae6a4d-082a-4c8f-96de-bc24387e8e42",
   "metadata": {},
   "source": [
    "https://fastpages.fast.ai/fastcore/"
   ]
  },
  {
   "cell_type": "code",
   "execution_count": 1,
   "id": "129205c7-9643-4351-a3a7-00aea0698ed8",
   "metadata": {},
   "outputs": [
    {
     "data": {
      "text/plain": [
       "<Signature (c, a, **kwargs)>"
      ]
     },
     "execution_count": 1,
     "metadata": {},
     "output_type": "execute_result"
    }
   ],
   "source": [
    "\n",
    "import  inspect \n",
    "def baz(a, b=2, c=3, d=4): return a + b + c\n",
    "\n",
    "def foo(c, a, **kwargs):\n",
    "    return c + baz(a, **kwargs)\n",
    "\n",
    "inspect.signature(foo)"
   ]
  },
  {
   "cell_type": "code",
   "execution_count": 2,
   "id": "5e0d31a4-08eb-41ac-8bd8-48eed7243774",
   "metadata": {},
   "outputs": [
    {
     "data": {
      "text/plain": [
       "<Signature (c, a, *, b=2, d=4)>"
      ]
     },
     "execution_count": 2,
     "metadata": {},
     "output_type": "execute_result"
    }
   ],
   "source": [
    "\n",
    "from fastcore.all import *\n",
    "def baz(a, b=2, c=3, d=4): return a + b + c\n",
    "\n",
    "@delegates(baz)\n",
    "# @delegates(baz, keep=True) # this decorator will pass down keyword arguments from baz\n",
    "def foo(c, a, **kwargs):\n",
    "    return c + baz(a, **kwargs)\n",
    "\n",
    "inspect.signature(foo)"
   ]
  },
  {
   "cell_type": "code",
   "execution_count": 3,
   "id": "7a342104-1bbe-4186-a6d5-96e082ad2300",
   "metadata": {},
   "outputs": [
    {
     "data": {
      "text/plain": [
       "<Signature (a, b=1, *, c=2)>"
      ]
     },
     "execution_count": 3,
     "metadata": {},
     "output_type": "execute_result"
    }
   ],
   "source": [
    "class BaseFoo:\n",
    "    def __init__(self, e, c=2): pass\n",
    "\n",
    "@delegates()# since no argument was passsed here we delegate to the superclass\n",
    "class Foo(BaseFoo):\n",
    "    def __init__(self, a, b=1, **kwargs): super().__init__(**kwargs)\n",
    "        \n",
    "inspect.signature(Foo)"
   ]
  },
  {
   "cell_type": "code",
   "execution_count": 4,
   "id": "84fa5fa5-29d0-4235-8466-a775b8202962",
   "metadata": {},
   "outputs": [],
   "source": [
    "q=Foo(1,2,e=3)"
   ]
  },
  {
   "cell_type": "code",
   "execution_count": 5,
   "id": "8ee927db-730c-49f9-bfdf-feb7e4c5e0f5",
   "metadata": {},
   "outputs": [],
   "source": [
    "import numpy as np\n",
    "@typedispatch\n",
    "def f(x:str, y:str): return f'{x}{y}'\n",
    "\n",
    "@typedispatch\n",
    "def f(x:np.ndarray): return x.sum()\n",
    "\n",
    "@typedispatch\n",
    "def f(x:int, y:int): return x+y"
   ]
  },
  {
   "cell_type": "code",
   "execution_count": 6,
   "id": "50ac5cf6-64e7-4f33-a7d9-8175a2b7ccbc",
   "metadata": {},
   "outputs": [
    {
     "data": {
      "text/plain": [
       "'hello'"
      ]
     },
     "execution_count": 6,
     "metadata": {},
     "output_type": "execute_result"
    }
   ],
   "source": [
    "f('hello')"
   ]
  },
  {
   "cell_type": "code",
   "execution_count": 7,
   "id": "639fedb4-10a0-40f6-93b2-6f76e030f225",
   "metadata": {},
   "outputs": [
    {
     "data": {
      "text/plain": [
       "5"
      ]
     },
     "execution_count": 7,
     "metadata": {},
     "output_type": "execute_result"
    }
   ],
   "source": [
    "f(2,3)"
   ]
  },
  {
   "cell_type": "code",
   "execution_count": null,
   "id": "17d0ed8d-7f59-48d0-b50d-2334580dbfef",
   "metadata": {},
   "outputs": [],
   "source": []
  }
 ],
 "metadata": {
  "kernelspec": {
   "display_name": "Python 3 (ipykernel)",
   "language": "python",
   "name": "python3"
  },
  "language_info": {
   "codemirror_mode": {
    "name": "ipython",
    "version": 3
   },
   "file_extension": ".py",
   "mimetype": "text/x-python",
   "name": "python",
   "nbconvert_exporter": "python",
   "pygments_lexer": "ipython3",
   "version": "3.9.13"
  }
 },
 "nbformat": 4,
 "nbformat_minor": 5
}
